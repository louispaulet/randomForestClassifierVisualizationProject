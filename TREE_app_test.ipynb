{
  "nbformat": 4,
  "nbformat_minor": 0,
  "metadata": {
    "jupytext": {
      "formats": "ipynb,py:percent"
    },
    "kernelspec": {
      "display_name": "Python 3",
      "language": "python",
      "name": "python3"
    },
    "language_info": {
      "codemirror_mode": {
        "name": "ipython",
        "version": 3
      },
      "file_extension": ".py",
      "mimetype": "text/x-python",
      "name": "python",
      "nbconvert_exporter": "python",
      "pygments_lexer": "ipython3",
      "version": "3.7.7"
    },
    "colab": {
      "name": "TREE app test.ipynb",
      "provenance": [],
      "include_colab_link": true
    }
  },
  "cells": [
    {
      "cell_type": "markdown",
      "metadata": {
        "id": "view-in-github",
        "colab_type": "text"
      },
      "source": [
        "<a href=\"https://colab.research.google.com/github/louispaulet/randomForestClassifierVisualizationProject/blob/main/TREE_app_test.ipynb\" target=\"_parent\"><img src=\"https://colab.research.google.com/assets/colab-badge.svg\" alt=\"Open In Colab\"/></a>"
      ]
    },
    {
      "cell_type": "markdown",
      "metadata": {
        "id": "ZfWc-QAZPki8"
      },
      "source": [
        "# JupyterDash\n",
        "The `jupyter-dash` package makes it easy to develop Plotly Dash apps from the Jupyter Notebook and JupyterLab.\n",
        "\n",
        "Just replace the standard `dash.Dash` class with the `jupyter_dash.JupyterDash` subclass."
      ]
    },
    {
      "cell_type": "code",
      "metadata": {
        "colab": {
          "base_uri": "https://localhost:8080/"
        },
        "id": "w3tUyEjyPo65",
        "outputId": "2f7c28b4-4be0-4199-c86f-3eaa4ab9c8f3"
      },
      "source": [
        "!pip install jupyter-dash"
      ],
      "execution_count": 1,
      "outputs": [
        {
          "output_type": "stream",
          "text": [
            "Requirement already satisfied: jupyter-dash in /usr/local/lib/python3.6/dist-packages (0.3.1)\n",
            "Requirement already satisfied: ipykernel in /usr/local/lib/python3.6/dist-packages (from jupyter-dash) (4.10.1)\n",
            "Requirement already satisfied: ansi2html in /usr/local/lib/python3.6/dist-packages (from jupyter-dash) (1.6.0)\n",
            "Requirement already satisfied: requests in /usr/local/lib/python3.6/dist-packages (from jupyter-dash) (2.23.0)\n",
            "Requirement already satisfied: flask in /usr/local/lib/python3.6/dist-packages (from jupyter-dash) (1.1.2)\n",
            "Requirement already satisfied: retrying in /usr/local/lib/python3.6/dist-packages (from jupyter-dash) (1.3.3)\n",
            "Requirement already satisfied: ipython in /usr/local/lib/python3.6/dist-packages (from jupyter-dash) (5.5.0)\n",
            "Requirement already satisfied: dash in /usr/local/lib/python3.6/dist-packages (from jupyter-dash) (1.18.1)\n",
            "Requirement already satisfied: traitlets>=4.1.0 in /usr/local/lib/python3.6/dist-packages (from ipykernel->jupyter-dash) (4.3.3)\n",
            "Requirement already satisfied: jupyter-client in /usr/local/lib/python3.6/dist-packages (from ipykernel->jupyter-dash) (5.3.5)\n",
            "Requirement already satisfied: tornado>=4.0 in /usr/local/lib/python3.6/dist-packages (from ipykernel->jupyter-dash) (5.1.1)\n",
            "Requirement already satisfied: idna<3,>=2.5 in /usr/local/lib/python3.6/dist-packages (from requests->jupyter-dash) (2.10)\n",
            "Requirement already satisfied: chardet<4,>=3.0.2 in /usr/local/lib/python3.6/dist-packages (from requests->jupyter-dash) (3.0.4)\n",
            "Requirement already satisfied: certifi>=2017.4.17 in /usr/local/lib/python3.6/dist-packages (from requests->jupyter-dash) (2020.12.5)\n",
            "Requirement already satisfied: urllib3!=1.25.0,!=1.25.1,<1.26,>=1.21.1 in /usr/local/lib/python3.6/dist-packages (from requests->jupyter-dash) (1.24.3)\n",
            "Requirement already satisfied: Werkzeug>=0.15 in /usr/local/lib/python3.6/dist-packages (from flask->jupyter-dash) (1.0.1)\n",
            "Requirement already satisfied: Jinja2>=2.10.1 in /usr/local/lib/python3.6/dist-packages (from flask->jupyter-dash) (2.11.2)\n",
            "Requirement already satisfied: itsdangerous>=0.24 in /usr/local/lib/python3.6/dist-packages (from flask->jupyter-dash) (1.1.0)\n",
            "Requirement already satisfied: click>=5.1 in /usr/local/lib/python3.6/dist-packages (from flask->jupyter-dash) (7.1.2)\n",
            "Requirement already satisfied: six>=1.7.0 in /usr/local/lib/python3.6/dist-packages (from retrying->jupyter-dash) (1.15.0)\n",
            "Requirement already satisfied: pygments in /usr/local/lib/python3.6/dist-packages (from ipython->jupyter-dash) (2.6.1)\n",
            "Requirement already satisfied: setuptools>=18.5 in /usr/local/lib/python3.6/dist-packages (from ipython->jupyter-dash) (50.3.2)\n",
            "Requirement already satisfied: pexpect; sys_platform != \"win32\" in /usr/local/lib/python3.6/dist-packages (from ipython->jupyter-dash) (4.8.0)\n",
            "Requirement already satisfied: simplegeneric>0.8 in /usr/local/lib/python3.6/dist-packages (from ipython->jupyter-dash) (0.8.1)\n",
            "Requirement already satisfied: decorator in /usr/local/lib/python3.6/dist-packages (from ipython->jupyter-dash) (4.4.2)\n",
            "Requirement already satisfied: pickleshare in /usr/local/lib/python3.6/dist-packages (from ipython->jupyter-dash) (0.7.5)\n",
            "Requirement already satisfied: prompt-toolkit<2.0.0,>=1.0.4 in /usr/local/lib/python3.6/dist-packages (from ipython->jupyter-dash) (1.0.18)\n",
            "Requirement already satisfied: dash-renderer==1.8.3 in /usr/local/lib/python3.6/dist-packages (from dash->jupyter-dash) (1.8.3)\n",
            "Requirement already satisfied: future in /usr/local/lib/python3.6/dist-packages (from dash->jupyter-dash) (0.16.0)\n",
            "Requirement already satisfied: dash-table==4.11.1 in /usr/local/lib/python3.6/dist-packages (from dash->jupyter-dash) (4.11.1)\n",
            "Requirement already satisfied: plotly in /usr/local/lib/python3.6/dist-packages (from dash->jupyter-dash) (4.4.1)\n",
            "Requirement already satisfied: dash-html-components==1.1.1 in /usr/local/lib/python3.6/dist-packages (from dash->jupyter-dash) (1.1.1)\n",
            "Requirement already satisfied: flask-compress in /usr/local/lib/python3.6/dist-packages (from dash->jupyter-dash) (1.8.0)\n",
            "Requirement already satisfied: dash-core-components==1.14.1 in /usr/local/lib/python3.6/dist-packages (from dash->jupyter-dash) (1.14.1)\n",
            "Requirement already satisfied: ipython-genutils in /usr/local/lib/python3.6/dist-packages (from traitlets>=4.1.0->ipykernel->jupyter-dash) (0.2.0)\n",
            "Requirement already satisfied: python-dateutil>=2.1 in /usr/local/lib/python3.6/dist-packages (from jupyter-client->ipykernel->jupyter-dash) (2.8.1)\n",
            "Requirement already satisfied: pyzmq>=13 in /usr/local/lib/python3.6/dist-packages (from jupyter-client->ipykernel->jupyter-dash) (20.0.0)\n",
            "Requirement already satisfied: jupyter-core>=4.6.0 in /usr/local/lib/python3.6/dist-packages (from jupyter-client->ipykernel->jupyter-dash) (4.7.0)\n",
            "Requirement already satisfied: MarkupSafe>=0.23 in /usr/local/lib/python3.6/dist-packages (from Jinja2>=2.10.1->flask->jupyter-dash) (1.1.1)\n",
            "Requirement already satisfied: ptyprocess>=0.5 in /usr/local/lib/python3.6/dist-packages (from pexpect; sys_platform != \"win32\"->ipython->jupyter-dash) (0.6.0)\n",
            "Requirement already satisfied: wcwidth in /usr/local/lib/python3.6/dist-packages (from prompt-toolkit<2.0.0,>=1.0.4->ipython->jupyter-dash) (0.2.5)\n",
            "Requirement already satisfied: brotli in /usr/local/lib/python3.6/dist-packages (from flask-compress->dash->jupyter-dash) (1.0.9)\n"
          ],
          "name": "stdout"
        }
      ]
    },
    {
      "cell_type": "code",
      "metadata": {
        "id": "RzE9K_sVPki-"
      },
      "source": [
        "from jupyter_dash import JupyterDash"
      ],
      "execution_count": 2,
      "outputs": []
    },
    {
      "cell_type": "code",
      "metadata": {
        "id": "7Otoyy9_Pki_"
      },
      "source": [
        "import dash\n",
        "import dash_core_components as dcc\n",
        "import dash_html_components as html\n",
        "import pandas as pd"
      ],
      "execution_count": 3,
      "outputs": []
    },
    {
      "cell_type": "code",
      "metadata": {
        "id": "YK1xx2jbXKCn"
      },
      "source": [
        "import dash_table\r\n",
        "from dash.dependencies import Input, Output, State\r\n"
      ],
      "execution_count": 4,
      "outputs": []
    },
    {
      "cell_type": "markdown",
      "metadata": {
        "id": "w8eKE4yEPki_"
      },
      "source": [
        "When running in JupyterHub or Binder, call the `infer_jupyter_config` function to detect the proxy configuration."
      ]
    },
    {
      "cell_type": "code",
      "metadata": {
        "id": "eCjGlAS7Pki_"
      },
      "source": [
        "JupyterDash.infer_jupyter_proxy_config()"
      ],
      "execution_count": 5,
      "outputs": []
    },
    {
      "cell_type": "markdown",
      "metadata": {
        "id": "RKOJMgZGPki_"
      },
      "source": [
        "Load and preprocess data"
      ]
    },
    {
      "cell_type": "code",
      "metadata": {
        "id": "XIe82MOHPkjA"
      },
      "source": [
        "df = pd.read_csv('https://plotly.github.io/datasets/country_indicators.csv')\n",
        "available_indicators = df['Indicator Name'].unique()"
      ],
      "execution_count": 6,
      "outputs": []
    },
    {
      "cell_type": "markdown",
      "metadata": {
        "id": "6-rZTArpPkjA"
      },
      "source": [
        "Construct the app and callbacks"
      ]
    },
    {
      "cell_type": "code",
      "metadata": {
        "id": "vcO4Oy2DPkjA"
      },
      "source": [
        "# external_stylesheets = ['https://codepen.io/chriddyp/pen/bWLwgP.css']\n",
        "\n",
        "# app = JupyterDash(__name__, external_stylesheets=external_stylesheets)\n",
        "\n",
        "# df = pd.DataFrame()\n",
        "\n",
        "# # Create server variable with Flask server object for use with gunicorn\n",
        "# server = app.server\n",
        "\n",
        "# app.layout = html.Div([\n",
        "                       \n",
        "#     html.H1(children='T.R.E.E : T.R.E.E Representation and Experimentation Engine'),\n",
        "\n",
        "#     html.Div([\n",
        "#       html.Div(dcc.Input(id='input-on-submit', type='text')),\n",
        "#       html.Button('Submit', id='submit-val', n_clicks=0),\n",
        "#       html.Div(id='container-button-basic',\n",
        "#               children='Enter a value and press submit')\n",
        "#     ]),\n",
        "    \n",
        "#     #display dataframe\n",
        "\n",
        "#     # html.Div([\n",
        "#     #       dash_table.DataTable(\n",
        "#     #         id='table',\n",
        "#     #         columns=[{\"name\": i, \"id\": i} for i in df.columns],\n",
        "#     #         data=df.to_dict('records'),\n",
        "#     #         )\n",
        "#     # ]),   \n",
        "# html.Div([\n",
        "#         dash_table.DataTable(id='datatable-upload-container')\n",
        "#         ]), \n",
        "# ])\n",
        "\n",
        "# @app.callback(\n",
        "#     # dash.dependencies.Output('container-button-basic', 'children'),\n",
        "#     dash.dependencies.Output('datatable-upload-container', 'columns', 'data'),\n",
        "#     [dash.dependencies.Input('submit-val', 'n_clicks')],\n",
        "#     [dash.dependencies.State('input-on-submit', 'value')])\n",
        "# def update_output(n_clicks, value):\n",
        "\n",
        "#   if contents is None:\n",
        "#           return [{}], []\n",
        "#   df = pd.read_csv(value)\n",
        "\n",
        "#   return df.to_dict('records'), [{\"name\": i, \"id\": i} for i in df.columns]"
      ],
      "execution_count": 7,
      "outputs": []
    },
    {
      "cell_type": "markdown",
      "metadata": {
        "id": "V2d1n5AWPkjB"
      },
      "source": [
        "Serve the app using `run_server`.  Unlike the standard `Dash.run_server` method, the `JupyterDash.run_server` method doesn't block execution of the notebook. It serves the app in a background thread, making it possible to run other notebook calculations while the app is running.\n",
        "\n",
        "This makes it possible to iterativly update the app without rerunning the potentially expensive data processing steps."
      ]
    },
    {
      "cell_type": "markdown",
      "metadata": {
        "id": "TMdVeBapPkjC"
      },
      "source": [
        "By default, `run_server` displays a URL that you can click on to open the app in a browser tab. The `mode` argument to `run_server` can be used to change this behavior.  Setting `mode=\"inline\"` will display the app directly in the notebook output cell."
      ]
    },
    {
      "cell_type": "code",
      "metadata": {
        "colab": {
          "base_uri": "https://localhost:8080/",
          "height": 51
        },
        "id": "8xtx4ozxrsxW",
        "outputId": "2509321a-b0ea-4989-e2be-4660fbf33b09"
      },
      "source": [
        "import base64\r\n",
        "import io\r\n",
        "import dash\r\n",
        "from dash.dependencies import Input, Output, State\r\n",
        "import dash_core_components as dcc\r\n",
        "import dash_html_components as html\r\n",
        "import dash_table\r\n",
        "import pandas as pd\r\n",
        "\r\n",
        "external_stylesheets = ['https://codepen.io/chriddyp/pen/bWLwgP.css']\r\n",
        "\r\n",
        "app = JupyterDash(__name__, external_stylesheets=external_stylesheets)\r\n",
        "\r\n",
        "app.layout = html.Div([\r\n",
        "html.Div([                       \r\n",
        "    html.H1('T.R.E.E : T.R.E.E Representation and Experimentation Engine'),\r\n",
        "]),\r\n",
        "html.Div([                       \r\n",
        "\r\n",
        "    dcc.Upload(\r\n",
        "        id='datatable-upload',\r\n",
        "        children=html.Div([\r\n",
        "            'Drag and Drop or ',\r\n",
        "            html.A('Select Files')\r\n",
        "        ]),\r\n",
        "        style={\r\n",
        "            'width': '100%', 'height': '60px', 'lineHeight': '60px',\r\n",
        "            'borderWidth': '1px', 'borderStyle': 'dashed',\r\n",
        "            'borderRadius': '5px', 'textAlign': 'center', 'margin': '10px'\r\n",
        "        },\r\n",
        "    ),\r\n",
        "    ]),\r\n",
        "html.Div([                       \r\n",
        "    html.H1(title='AAAAAAAAAAAAAAAAAAAAAAAAAAAAAAAAAAAAAAAAAAAAAAAAAAAAA', id='title_df'),\r\n",
        "    \r\n",
        "    dash_table.DataTable(id='datatable-upload-container'),\r\n",
        "]),\r\n",
        "html.Div([  \r\n",
        "    dcc.Graph(id='datatable-upload-graph')\r\n",
        "    ]),\r\n",
        "])\r\n",
        "\r\n",
        "\r\n",
        "def parse_contents(contents, filename):\r\n",
        "    content_type, content_string = contents.split(',')\r\n",
        "    decoded = base64.b64decode(content_string)\r\n",
        "    if 'csv' in filename:\r\n",
        "        # Assume that the user uploaded a CSV file\r\n",
        "        return pd.read_csv(\r\n",
        "            io.StringIO(decoded.decode('utf-8')))\r\n",
        "    elif 'xls' in filename:\r\n",
        "        # Assume that the user uploaded an excel file\r\n",
        "        return pd.read_excel(io.BytesIO(decoded))\r\n",
        "\r\n",
        "@app.callback(Output('title_df', 'title'),        \r\n",
        "Input('datatable-upload', 'contents'))\r\n",
        "def display_title_df():\r\n",
        "  return '5 first rows of the dataset : '\r\n",
        "\r\n",
        "@app.callback(Output('datatable-upload-container', 'data'),\r\n",
        "              Output('datatable-upload-container', 'columns'),\r\n",
        "              Output('datatable-upload-container', 'hiddenDf'),\r\n",
        "              Input('datatable-upload', 'contents'),\r\n",
        "              State('datatable-upload', 'filename'))\r\n",
        "def update_output(contents, filename):\r\n",
        "    if contents is None:\r\n",
        "        return [{}], []\r\n",
        "    df = parse_contents(contents, filename)\r\n",
        "    display_df = df.head()\r\n",
        "    return display_df.to_dict('records'), [{\"name\": i, \"id\": i} for i in df.columns], df.to_dict('records')\r\n",
        "\r\n",
        "\r\n",
        "@app.callback(Output('datatable-upload-graph', 'figure'),\r\n",
        "              Input('datatable-upload-container', 'hiddenDf'))\r\n",
        "def display_graph(rows):\r\n",
        "    df = pd.DataFrame(rows)\r\n",
        "\r\n",
        "    if (df.empty or len(df.columns) < 1):\r\n",
        "        return {\r\n",
        "            'data': [{\r\n",
        "                'x': [],\r\n",
        "                'y': [],\r\n",
        "                'type': 'bar'\r\n",
        "            }]\r\n",
        "        }\r\n",
        "    return {\r\n",
        "        'data': [{\r\n",
        "            'x': df[df.columns[0]],\r\n",
        "            'y': df[df.columns[1]],\r\n",
        "            'type': 'bar'\r\n",
        "        }]\r\n",
        "    }\r\n",
        "\r\n",
        "\r\n",
        "if __name__ == '__main__':\r\n",
        "    app.run_server()"
      ],
      "execution_count": 33,
      "outputs": [
        {
          "output_type": "stream",
          "text": [
            "Dash app running on:\n"
          ],
          "name": "stdout"
        },
        {
          "output_type": "display_data",
          "data": {
            "application/javascript": [
              "(async (port, path, text, element) => {\n",
              "    if (!google.colab.kernel.accessAllowed) {\n",
              "      return;\n",
              "    }\n",
              "    element.appendChild(document.createTextNode(''));\n",
              "    const url = await google.colab.kernel.proxyPort(port);\n",
              "    const anchor = document.createElement('a');\n",
              "    anchor.href = url + path;\n",
              "    anchor.target = '_blank';\n",
              "    anchor.setAttribute('data-href', url + path);\n",
              "    anchor.textContent = text;\n",
              "    element.appendChild(anchor);\n",
              "  })(8050, \"/\", \"http://127.0.0.1:8050/\", window.element)"
            ],
            "text/plain": [
              "<IPython.core.display.Javascript object>"
            ]
          },
          "metadata": {
            "tags": []
          }
        }
      ]
    },
    {
      "cell_type": "code",
      "metadata": {
        "colab": {
          "base_uri": "https://localhost:8080/",
          "height": 671
        },
        "id": "kPFv1TRfPkjC",
        "outputId": "4e541d49-2406-4427-b87d-4373dc342738"
      },
      "source": [
        "app.run_server(mode=\"inline\")\r\n"
      ],
      "execution_count": 34,
      "outputs": [
        {
          "output_type": "display_data",
          "data": {
            "application/javascript": [
              "(async (port, path, width, height, cache, element) => {\n",
              "    if (!google.colab.kernel.accessAllowed && !cache) {\n",
              "      return;\n",
              "    }\n",
              "    element.appendChild(document.createTextNode(''));\n",
              "    const url = await google.colab.kernel.proxyPort(port, {cache});\n",
              "    const iframe = document.createElement('iframe');\n",
              "    iframe.src = url + path;\n",
              "    iframe.height = height;\n",
              "    iframe.width = width;\n",
              "    iframe.style.border = 0;\n",
              "    element.appendChild(iframe);\n",
              "  })(8050, \"/\", \"100%\", 650, false, window.element)"
            ],
            "text/plain": [
              "<IPython.core.display.Javascript object>"
            ]
          },
          "metadata": {
            "tags": []
          }
        }
      ]
    }
  ]
}